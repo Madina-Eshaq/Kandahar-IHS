{
    "metadata": {
        "kernelspec": {
            "name": "SQL",
            "display_name": "SQL",
            "language": "sql"
        },
        "language_info": {
            "name": "sql",
            "version": ""
        }
    },
    "nbformat_minor": 2,
    "nbformat": 4,
    "cells": [
        {
            "cell_type": "markdown",
            "source": [
                "# Database ddl queries test"
            ],
            "metadata": {
                "azdata_cell_guid": "a54aac03-9fac-47d3-b966-4e040056bcba"
            }
        },
        {
            "cell_type": "code",
            "source": [
                "INSERT INTO [Department].[Hostel] (HostelType)\r\n",
                "VALUES ('Male');\r\n",
                "INSERT INTO [Department].[Hostel] (HostelType)\r\n",
                "VALUES ('Female');\r\n",
                "INSERT INTO [Department].[Hostel] (HostelType)\r\n",
                "VALUES ('MF12');"
            ],
            "metadata": {
                "azdata_cell_guid": "42b0ecaf-9779-4f1e-b769-39564c246cb7"
            },
            "outputs": [],
            "execution_count": null
        },
        {
            "cell_type": "code",
            "source": [
                "INSERT INTO [Department].[Tools] (Bed, Cupboard,  Curtains, Fan, Heater, Blanket, Pillow, Carpet)\r\n",
                "VALUES \r\n",
                "(4, 5, 6,5, 3, 2, 4, 6),\r\n",
                "(42, 45, 56,85, 37, 62, 5, 23),\r\n",
                "(4, 52, 46, 35, 31, 22, 4, 236),\r\n",
                "(42, 45, 56,85, 37, 62, 5, 23),\r\n",
                "(23, 53, 333,533, 333, 23, 43, 63),\r\n",
                "(12, 45, 56,85, 37, 62, 53, 23),\r\n",
                "(56, 52, 46, 35, 31, 22, 4, 236),\r\n",
                "(718, 213, 526,435, 33, 632, 52, 33),\r\n",
                "(8, 23, 46,45, 33, 2, 2, 3),\r\n",
                "(4, 533, 633,353, 33, 23, 43, 6),\r\n",
                "(42, 45, 56,85, 37, 62, 5, 23),\r\n",
                "(4, 52, 46, 35, 31, 22, 4, 236),\r\n",
                "(42, 45, 56,85, 37, 62, 5, 23),\r\n",
                "(23, 505, 6, 85, 3, 82, 423, 66),\r\n",
                "(12, 45, 56,85, 37, 62, 5, 23),\r\n",
                "(56, 52, 46, 35, 31, 22, 4, 236),\r\n",
                "(78, 23, 5346,845, 373, 622, 52, 223),\r\n",
                "(56, 52, 46, 35, 31, 22, 4, 236),\r\n",
                "(78, 23, 5346,845, 373, 622, 52, 223),\r\n",
                "(8, 23, 46,45, 33, 2, 2, 3);"
            ],
            "metadata": {
                "azdata_cell_guid": "49ef6d11-c025-4d9b-ab2b-83c61cc6748a"
            },
            "outputs": [],
            "execution_count": null
        },
        {
            "cell_type": "code",
            "source": [
                "INSERT INTO [Department].[Room] (HostelID, ToolsID, FloorNo)\r\n",
                "VALUES \r\n",
                "(1, 1, 1),\r\n",
                "(1, 2, 1),\r\n",
                "(1, 3, 1),\r\n",
                "(1, 4, 1),\r\n",
                "(1, 5, 1),\r\n",
                "(1, 6, 2),\r\n",
                "(1, 7, 2),\r\n",
                "(1, 8, 2),\r\n",
                "(1, 9, 2),\r\n",
                "(1, 10, 2),\r\n",
                "(2, 11, 1),\r\n",
                "(2, 12, 1),\r\n",
                "(2, 13, 1),\r\n",
                "(2, 14, 1),\r\n",
                "(2, 15, 1),\r\n",
                "(2, 16, 2),\r\n",
                "(2, 17, 2),\r\n",
                "(2, 18, 2),\r\n",
                "(2, 19, 2),\r\n",
                "(2, 20, 2);\r\n",
                "SELECT * FROM [Department].[Room];"
            ],
            "metadata": {
                "azdata_cell_guid": "13c6f9f1-6158-44ef-9183-a14db2e1d38f"
            },
            "outputs": [],
            "execution_count": null
        },
        {
            "cell_type": "code",
            "source": [
                "INSERT INTO [Department].[HostelEmployee] (HostelID)\r\n",
                "VALUES \r\n",
                "(4, 1),\r\n",
                "(5, 2), \r\n",
                "(6, 2),\r\n",
                "(7, 2),\r\n",
                "(8, 2),\r\n",
                "(9, 2),\r\n",
                "(2, 2),\r\n",
                "(1, 1),\r\n",
                "(3, 1),\r\n",
                "(13, 1),\r\n",
                "(14, 1),\r\n",
                "(15, 1),\r\n",
                "(16, 1),\r\n",
                "(17, 1),\r\n",
                "(18, 1),\r\n",
                "(19, 2),\r\n",
                "(14, 2);"
            ],
            "metadata": {
                "azdata_cell_guid": "8dfeda43-da45-4f4c-b210-0fb7cf595182"
            },
            "outputs": [],
            "execution_count": null
        },
        {
            "cell_type": "code",
            "source": [
                "INSERT INTO [Department].[HostelAttendance] (HostelID, RegistrationID, AttendanceDate, AttendanceDate, TotalDays, PresentDays, AbsentDays, OffDays, Leave)\r\n",
                "VALUES\r\n",
                "(1, 1, '2019-01-13', 30, 12, 15, 3, 0),\r\n",
                "(1, 2, '2019-01-13', 30, 18, 9, 3, 0),\r\n",
                "(1, 3, '2019-01-13', 30, 17, 10, 3, 0),\r\n",
                "(1, 4, '2019-01-13', 30, 8, 15, 3, 4),\r\n",
                "(1, 5, '2019-01-13', 30, 12, 15, 3, 0),\r\n",
                "(1, 6, '2019-01-13', 30, 12, 15, 3, 0),\r\n",
                "(1, 7, '2019-01-13', 30, 12, 15, 3, 0),\r\n",
                "(1, 8, '2019-01-13', 30, 12, 13, 3, 2),\r\n",
                "(1, 9, '2019-01-13', 30, 12, 9, 3, 6),\r\n",
                "(1, 10, '2019-01-13', 30, 12, 8, 3, 7),\r\n",
                "(2, 12, '2019-01-13', 30, 12, 15, 3, 0),\r\n",
                "(2, 13, '2019-01-13', 30, 12, 3, 3, 12),\r\n",
                "(2, 14, '2019-01-13', 30, 12, 9, 3, 6),\r\n",
                "(2, 15, '2019-01-13', 30, 12, 15, 3, 0),\r\n",
                "(2, 16, '2019-01-13', 30, 12, 15, 3, 0),\r\n",
                "(2, 17, '2019-01-13', 30, 12, 15, 3, 0),\r\n",
                "(2, 18, '2019-01-13', 30, 12, 14, 3, 1),\r\n",
                "(2, 19, '2019-01-13', 30, 12, 13, 3, 2),\r\n",
                "(2, 20, '2019-01-13', 30, 12, 12, 3, 3);"
            ],
            "metadata": {
                "azdata_cell_guid": "2192cff7-1dfc-4ebe-9073-a9868a0a9598"
            },
            "outputs": [],
            "execution_count": null
        },
        {
            "cell_type": "code",
            "source": [
                "INSERT INTO [Department].[Clearance] (RegistrationID, Checked)\r\n",
                "VALUES \r\n",
                "(1, 1),\r\n",
                "(2, 0),\r\n",
                "(3,1),\r\n",
                "(4, 1),\r\n",
                "(5, 0),\r\n",
                "(6, 1),\r\n",
                "(7, 1),\r\n",
                "(8, 1),\r\n",
                "(9, 1),\r\n",
                "(10, 1),\r\n",
                "(11, 1),\r\n",
                "(12, 1),\r\n",
                "(13, 0),\r\n",
                "(14, 0),\r\n",
                "(15, 1),\r\n",
                "(16, 1),\r\n",
                "(17, 1),\r\n",
                "(18, 1),\r\n",
                "(19, 0),\r\n",
                "(20, 0);"
            ],
            "metadata": {
                "azdata_cell_guid": "a320226f-d672-458c-a2d6-a9e9956281bf"
            },
            "outputs": [],
            "execution_count": null
        },
        {
            "cell_type": "code",
            "source": [
                "INSERT INTO [Department].[HostelRegistration] (HostelID, StudentID, RegistrationDate, RoomID)\r\n",
                "VALUES \r\n",
                "(1, 1, '2018-07-23', 1),\r\n",
                "(1, 2, '2018-07-23', 2),\r\n",
                "(1, 2, '2018-08-23', 2),\r\n",
                "(1, 3, '2018-0-23', 2),\r\n",
                "(1, 2, '2018-09-23', 3),\r\n",
                "(1, 4, '2018-07-23', 4),\r\n",
                "(1, 5, '2018-07-23', 5),\r\n",
                "(1, 6, '2018-07-23', 3),\r\n",
                "(1, 6, '2018-08-23', 2),\r\n",
                "(1, 7, '2018-07-23', 3),\r\n",
                "(1, 2, '2018-10-23', 4),\r\n",
                "(2, 1, '2018-03-23', 3),\r\n",
                "(2, 5, '2018-02-23', 13),\r\n",
                "(2, 6, '2018-02-23', 12),\r\n",
                "(2, 7, '2018-02-23', 14),\r\n",
                "(2, 8, '2018-02-23', 6),\r\n",
                "(2, 19, '2018-07-23', 6),\r\n",
                "(2, 20, '2018-07-23', 5),\r\n",
                "(2, 10, '2018-07-23', 5),\r\n",
                "(2, 12, '2018-07-23', 5),\r\n",
                "(2, 11, '2018-07-23', 20),\r\n",
                "(2, 19, '2018-11-23', 19);"
            ],
            "metadata": {
                "azdata_cell_guid": "94be0b11-cedf-40af-a98e-3003d0ab77a8"
            },
            "outputs": [],
            "execution_count": null
        },
        {
            "cell_type": "code",
            "source": [
                "INSERT INTO [Department].[course] VALUES ('pharmacy')\r\n",
                "INSERT INTO[Department].[course] VALUES ('laboratory')\r\n",
                "INSERT INTO[Department].[Course] VALUES ('nursing')\r\n",
                "INSERT INTO[Department].[course] VALUES ('midwifery')\r\n",
                "INSERT INTO[Department].[course] VALUES ('Math')\r\n",
                "INSERT INTO[Department].[course] VALUES ('saqafat')\r\n",
                "INSERT INTO[Department].[course] VALUES ('computer')\r\n",
                "INSERT INTO[Department].[Course] VALUES ('English')\r\n",
                "INSERT INTO[Department].[course] VALUES ('psychology')\r\n",
                "INSERT INTO[Department].[course] VALUES ('Network')"
            ],
            "metadata": {
                "azdata_cell_guid": "ff0dc697-a041-4163-a35e-037bc74c1e38"
            },
            "outputs": [],
            "execution_count": null
        },
        {
            "cell_type": "code",
            "source": [
                "INSERT INTO [Department].[NightShift] VALUES (1,3,'2019-3-4')\r\n",
                "INSERT INTO [Department].[NightShift] VALUES(1,6,'2019-3-22')\r\n",
                "INSERT INTO [Department].[NightShift] VALUES(1,8,'2019-4-2')\r\n",
                "INSERT INTO [Department].[NightShift] VALUES(1,9,'2019-4-20')\r\n",
                "INSERT INTO [Department].[NightShift] VALUES(2,2,'2019-4-30')\r\n",
                "INSERT INTO [Department].[NightShift] VALUES(2,4,'2019-5-4')\r\n",
                "INSERT INTO [Department].[NightShift] VALUES(2,7,'2019-5-23')\r\n",
                "INSERT INTO [Department].[NightShift] VALUES(2,6,'2019-6-1')\r\n",
                "INSERT INTO [Department].[NightShift] VALUES(3,5,'2019-6-15')\r\n",
                "INSERT INTO [Department].[NightShift] VALUES(3,9,'2019-6-25')\r\n",
                "INSERT INTO [Department].[NightShift] VALUES(3,2,'2019-7-3')\r\n",
                "INSERT INTO [Department].[NightShift] VALUES(4,1,'2019-7-17')\r\n",
                "INSERT INTO [Department].[NightShift] VALUES(4,35,'2019-7-26')"
            ],
            "metadata": {
                "azdata_cell_guid": "2925fb14-979e-417c-bcf9-1a8736798d53"
            },
            "outputs": [],
            "execution_count": null
        },
        {
            "cell_type": "code",
            "source": [
                "INSERT INTO [Score].[ScoreDetails] VALUES (1,3,7,20)\r\n",
                "INSERT INTO [Score].[ScoreDetails] VALUES (1,5,4,15)\r\n",
                "INSERT INTO [Score].[ScoreDetails] VALUES (1,6,6,3)\r\n",
                "INSERT INTO [Score].[ScoreDetails] VALUES (1,7,7,13)\r\n",
                "INSERT INTO [Score].[ScoreDetails] VALUES (2,4,6,15)\r\n",
                "INSERT INTO [Score].[ScoreDetails] VALUES (2,7,7,20)\r\n",
                "INSERT INTO [Score].[ScoreDetails] VALUES (2,8,8,16)\r\n",
                "INSERT INTO [Score].[ScoreDetails] VALUES (2,9,6,13)\r\n",
                "INSERT INTO [Score].[ScoreDetails] VALUES (2,6,7,18)\r\n",
                "INSERT INTO [Score].[ScoreDetails] VALUES (3,8,6,8)\r\n",
                "INSERT INTO [Score].[ScoreDetails] VALUES (4,4,5,20)\r\n",
                "INSERT INTO [Score].[ScoreDetails] VALUES (4,3,6,17)\r\n",
                "INSERT INTO [Score].[ScoreDetails] VALUES (5,2,7,13)\r\n",
                "INSERT INTO [Score].[ScoreDetails] VALUES (6,1,6,11)\r\n",
                "INSERT INTO [Score].[ScoreDetails] VALUES (7,9,8,12)\r\n",
                "INSERT INTO [Score].[ScoreDetails] VALUES (7,8,7,20)"
            ],
            "metadata": {
                "azdata_cell_guid": "ecf83bad-7353-4cc1-bd7a-8aca5c77827a"
            },
            "outputs": [],
            "execution_count": null
        },
        {
            "cell_type": "code",
            "source": [
                "INSERT INTO [Department].[Coordinator] VALUES(10,5,'2017-2-1')\r\n",
                "INSERT INTO [Department].[Coordinator] VALUES(10,7,'2016-1-13')\r\n",
                "INSERT INTO [Department].[Coordinator] VALUES(10,8,'2018-5-8')\r\n",
                "INSERT INTO [Department].[Coordinator] VALUES(11,9,'2019-6-19')\r\n",
                "INSERT INTO [Department].[Coordinator] VALUES(19,2,'2015-8-16')\r\n",
                "INSERT INTO [Department].[Coordinator] VALUES(11,1,'2016-9-14')\r\n",
                "INSERT INTO [Department].[Coordinator] VALUES(12,4,'2014-6-15')\r\n",
                "INSERT INTO [Department].[Coordinator] VALUES(13,3,'2019-4-17')\r\n",
                "INSERT INTO [Department].[Coordinator] VALUES(14,6,'2015-1-18')\r\n",
                "INSERT INTO [Department].[Coordinator] VALUES (3,4,'2015-1-18')\r\n",
                "INSERT INTO [Department].[Coordinator] VALUES(16,8,'2017-11-5')\r\n",
                "INSERT INTO [Department].[Coordinator] VALUES(17,4,'2019-3-4')\r\n",
                "INSERT INTO [Department].[Coordinator] VALUES(18,7,'2016-10-9')\r\n",
                "INSERT INTO [Department].[Coordinator] VALUES(19,6,'2018-5-6')\r\n",
                "INSERT INTO [Department].[Coordinator] VALUES(20,3,'2013-8-2')"
            ],
            "metadata": {
                "azdata_cell_guid": "9da2cda3-6117-424d-838e-3d9067ee44e2"
            },
            "outputs": [],
            "execution_count": null
        },
        {
            "cell_type": "code",
            "source": [
                "INSERT INTO [Department].[Group] VALUES (2,1,'Mgroup')\r\n",
                "INSERT INTO [Department].[Group] VALUES  (3,4,'Ngroup')\r\n",
                "INSERT INTO [Department].[Group] VALUES  (4,3,'Bgroup')\r\n",
                "INSERT INTO [Department].[Group] VALUES  (5,2,'Fgroup')\r\n",
                "INSERT INTO [Department].[Group] VALUES  (6,3,'Wgroup')\r\n",
                "INSERT INTO [Department].[Group] VALUES  (7,4,'Agroup')\r\n",
                "INSERT INTO [Department].[Group] VALUES  (8,2,'Cgroup')\r\n",
                "INSERT INTO [Department].[Group] VALUES  (9,1,'Hgroup')\r\n",
                "INSERT INTO [Department].[Group] VALUES  (10,2,'Tgroup')\r\n",
                "INSERT INTO [Department].[Group] VALUES  (4,4,'Lgroup')\r\n",
                "INSERT INTO [Department].[Group] VALUES  (6,3,'Xgroup')\r\n",
                "INSERT INTO [Department].[Group] VALUES  (8,1,'Zgroup')\r\n",
                "INSERT INTO [Department].[Group] VALUES  (9,2,'Qgroup')\r\n",
                "INSERT INTO [Department].[Group] VALUES  (1,3,'Dgroup')\r\n",
                "INSERT INTO [Department].[Group] VALUES  (3,4,'Ugroup')\r\n",
                "INSERT INTO [Department].[Group] VALUES  (2,1,'Pgroup')"
            ],
            "metadata": {
                "azdata_cell_guid": "9bbf7f8a-7a07-43b6-beea-81228a94f07e"
            },
            "outputs": [],
            "execution_count": null
        }
    ]
}